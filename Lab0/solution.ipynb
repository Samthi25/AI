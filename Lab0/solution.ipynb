{
 "cells": [
  {
   "cell_type": "markdown",
   "metadata": {},
   "source": [
    "Task 1: \"Hello World!\"\n",
    "Write and run a Python program that prints Hello World!.\n",
    "\n",
    "1. Create a new Python file or open a Jupyter Notebook.\n",
    "2. Write a program that outputs the text 'Hello World!' to the console.\n",
    "3. Run the program/cell to ensure it executes correctly."
   ]
  },
  {
   "cell_type": "code",
   "execution_count": 1,
   "metadata": {},
   "outputs": [
    {
     "name": "stdout",
     "output_type": "stream",
     "text": [
      "Hello world\n"
     ]
    }
   ],
   "source": [
    "#1. Create a new python program that prints the Hello world\n",
    "print(\"Hello world\")"
   ]
  },
  {
   "cell_type": "markdown",
   "metadata": {},
   "source": [
    "Task 2: Basic Arithmetic\n",
    "Perform basic arithmetic operations in Python.\n",
    "\n",
    "1. Write code to:\n",
    "    .Add two numbers.\n",
    "    .Multiply two numbers.\n",
    "    .Divide one number by another.\n",
    "2.Display the results of each calculation."
   ]
  },
  {
   "cell_type": "code",
   "execution_count": 3,
   "metadata": {},
   "outputs": [
    {
     "name": "stdout",
     "output_type": "stream",
     "text": [
      "Addition of two numbers  15\n",
      "Addition of two numbers  50\n",
      "Addition of two numbers  2.0\n"
     ]
    }
   ],
   "source": [
    "#1 . add two numbers\n",
    "a = 10 \n",
    "b = 5 \n",
    "c = a +b\n",
    "d = a*b\n",
    "e = a/b\n",
    "\n",
    "# displays the result of each calculation\n",
    "print(f\"Addition of two numbers \", c)\n",
    "print(f\"Addition of two numbers \", d)\n",
    "print(f\"Addition of two numbers \", e)"
   ]
  },
  {
   "cell_type": "markdown",
   "metadata": {},
   "source": [
    "Task 3: Variables\n",
    "Learn to store and use values in variables.\n",
    "\n",
    "1. Create variables to store a name and an age.\n",
    "2. Print the values of the variables in a formatted string."
   ]
  },
  {
   "cell_type": "code",
   "execution_count": 5,
   "metadata": {},
   "outputs": [
    {
     "name": "stdout",
     "output_type": "stream",
     "text": [
      "Name of the person is Sam\n",
      "Age of the person is 20\n"
     ]
    }
   ],
   "source": [
    "#1.create a variable to store and an age. \n",
    "name = \"Sam\"\n",
    "age=20\n",
    "print(f\"Name of the person is {name}\")\n",
    "print(f\"Age of the person is {age}\")"
   ]
  },
  {
   "cell_type": "markdown",
   "metadata": {},
   "source": [
    "Task 4:\n",
    "Use a loop to repeat an action multiple times.\n",
    "\n",
    "1. Write a for-loop that iterates over a range of numbers.\n",
    "2. In each iteration, print a line of text that includes the current iteration number."
   ]
  },
  {
   "cell_type": "code",
   "execution_count": 13,
   "metadata": {},
   "outputs": [
    {
     "name": "stdout",
     "output_type": "stream",
     "text": [
      "The number is iteration number x 1\n",
      "The number is iteration number x 2\n",
      "The number is iteration number x 3\n",
      "The number is iteration number x 6\n",
      "The number is iteration number x 5\n",
      "This is the iteration number  0\n",
      "This is the iteration number  1\n",
      "This is the iteration number  2\n",
      "This is the iteration number  3\n",
      "This is the iteration number  4\n"
     ]
    }
   ],
   "source": [
    "#1. write a for loop that iterates over a range of numbers.\n",
    "\n",
    "x = [1,2,3,6,5]\n",
    "for i in x:\n",
    "    print(f\"The number is iteration number \", i)\n",
    "\n",
    "#another method to display \n",
    "for i in range(5):\n",
    "    print(f\"This is the iteration number \", i)"
   ]
  },
  {
   "cell_type": "markdown",
   "metadata": {},
   "source": [
    "Task 5: Conditional Statements\n",
    "Implement decision-making in your code using if-else statements.\n",
    "\n",
    "1. Write an if-statement that checks if a number is greater than 5.\n",
    "2. Print a message based on whether the condition is true or false."
   ]
  },
  {
   "cell_type": "code",
   "execution_count": 16,
   "metadata": {},
   "outputs": [
    {
     "name": "stdout",
     "output_type": "stream",
     "text": [
      "The number is greater than 5\n"
     ]
    }
   ],
   "source": [
    "#1 . If statement to check whether if a number is greater than 5. \n",
    "\n",
    "x = 6\n",
    "if x > 5:\n",
    "    print(f\"The number is greater than 5\")\n",
    "else:\n",
    "    print(f\"The number is not greater than 5\")"
   ]
  }
 ],
 "metadata": {
  "kernelspec": {
   "display_name": "dave3625",
   "language": "python",
   "name": "python3"
  },
  "language_info": {
   "codemirror_mode": {
    "name": "ipython",
    "version": 3
   },
   "file_extension": ".py",
   "mimetype": "text/x-python",
   "name": "python",
   "nbconvert_exporter": "python",
   "pygments_lexer": "ipython3",
   "version": "3.8.19"
  }
 },
 "nbformat": 4,
 "nbformat_minor": 2
}
