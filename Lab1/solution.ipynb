{
 "cells": [
  {
   "cell_type": "code",
   "execution_count": 5,
   "metadata": {},
   "outputs": [
    {
     "data": {
      "text/html": [
       "<div>\n",
       "<style scoped>\n",
       "    .dataframe tbody tr th:only-of-type {\n",
       "        vertical-align: middle;\n",
       "    }\n",
       "\n",
       "    .dataframe tbody tr th {\n",
       "        vertical-align: top;\n",
       "    }\n",
       "\n",
       "    .dataframe thead th {\n",
       "        text-align: right;\n",
       "    }\n",
       "</style>\n",
       "<table border=\"1\" class=\"dataframe\">\n",
       "  <thead>\n",
       "    <tr style=\"text-align: right;\">\n",
       "      <th></th>\n",
       "      <th>StudentID</th>\n",
       "      <th>Age</th>\n",
       "      <th>email</th>\n",
       "      <th>hrsStudy</th>\n",
       "      <th>FinalGrade</th>\n",
       "    </tr>\n",
       "  </thead>\n",
       "  <tbody>\n",
       "    <tr>\n",
       "      <th>0</th>\n",
       "      <td>47412</td>\n",
       "      <td>20</td>\n",
       "      <td>s47412@oslomet.no</td>\n",
       "      <td>5</td>\n",
       "      <td>46.0</td>\n",
       "    </tr>\n",
       "    <tr>\n",
       "      <th>1</th>\n",
       "      <td>15077</td>\n",
       "      <td>22</td>\n",
       "      <td>s15077@oslomet.no</td>\n",
       "      <td>0</td>\n",
       "      <td>65.0</td>\n",
       "    </tr>\n",
       "    <tr>\n",
       "      <th>2</th>\n",
       "      <td>15467</td>\n",
       "      <td>27</td>\n",
       "      <td>s15467@oslomet.no</td>\n",
       "      <td>1</td>\n",
       "      <td>26.0</td>\n",
       "    </tr>\n",
       "    <tr>\n",
       "      <th>3</th>\n",
       "      <td>17907</td>\n",
       "      <td>21</td>\n",
       "      <td>s17907@oslomet.no</td>\n",
       "      <td>6</td>\n",
       "      <td>68.0</td>\n",
       "    </tr>\n",
       "    <tr>\n",
       "      <th>4</th>\n",
       "      <td>13352</td>\n",
       "      <td>333</td>\n",
       "      <td>s13352@oslomet.no</td>\n",
       "      <td>4</td>\n",
       "      <td>34.0</td>\n",
       "    </tr>\n",
       "  </tbody>\n",
       "</table>\n",
       "</div>"
      ],
      "text/plain": [
       "   StudentID  Age              email hrsStudy  FinalGrade\n",
       "0      47412   20  s47412@oslomet.no        5        46.0\n",
       "1      15077   22  s15077@oslomet.no        0        65.0\n",
       "2      15467   27  s15467@oslomet.no        1        26.0\n",
       "3      17907   21  s17907@oslomet.no        6        68.0\n",
       "4      13352  333  s13352@oslomet.no        4        34.0"
      ]
     },
     "execution_count": 5,
     "metadata": {},
     "output_type": "execute_result"
    }
   ],
   "source": [
    "#1. In this lab, you will import the csv file into pandas:\n",
    "\n",
    "import pandas as pd\n",
    "df = pd.read_csv('./data/stud.csv', sep=',')\n",
    "df.head()"
   ]
  },
  {
   "cell_type": "code",
   "execution_count": 8,
   "metadata": {},
   "outputs": [
    {
     "name": "stdout",
     "output_type": "stream",
     "text": [
      "<class 'pandas.core.frame.DataFrame'>\n",
      "RangeIndex: 50 entries, 0 to 49\n",
      "Data columns (total 5 columns):\n",
      " #   Column      Non-Null Count  Dtype  \n",
      "---  ------      --------------  -----  \n",
      " 0   StudentID   50 non-null     int64  \n",
      " 1   Age         50 non-null     object \n",
      " 2   email       50 non-null     object \n",
      " 3   hrsStudy    50 non-null     object \n",
      " 4   FinalGrade  49 non-null     float64\n",
      "dtypes: float64(1), int64(1), object(3)\n",
      "memory usage: 2.1+ KB\n"
     ]
    },
    {
     "data": {
      "text/plain": [
       "StudentID     0\n",
       "Age           0\n",
       "email         0\n",
       "hrsStudy      0\n",
       "FinalGrade    1\n",
       "dtype: int64"
      ]
     },
     "execution_count": 8,
     "metadata": {},
     "output_type": "execute_result"
    }
   ],
   "source": [
    "#2. You will then clean the data set so df.info() produce\n",
    "df.info()\n",
    "df\n",
    "df.isna().sum() #check for the empty values, but this is not correct, because u got empty cell in rows 30 and 41"
   ]
  },
  {
   "cell_type": "code",
   "execution_count": 11,
   "metadata": {},
   "outputs": [
    {
     "data": {
      "text/plain": [
       "StudentID     0\n",
       "Age           1\n",
       "email         0\n",
       "hrsStudy      1\n",
       "FinalGrade    1\n",
       "dtype: int64"
      ]
     },
     "execution_count": 11,
     "metadata": {},
     "output_type": "execute_result"
    }
   ],
   "source": [
    "#Let's replace the empty values with NaN values. \n",
    "import numpy as np\n",
    "df = df.replace(r'^\\s*$', np.nan, regex=True) #Replace blank values with np.nan values\n",
    "df.isna().sum()"
   ]
  },
  {
   "cell_type": "code",
   "execution_count": 13,
   "metadata": {},
   "outputs": [
    {
     "data": {
      "text/plain": [
       "StudentID     0\n",
       "Age           0\n",
       "email         0\n",
       "hrsStudy      1\n",
       "FinalGrade    1\n",
       "dtype: int64"
      ]
     },
     "execution_count": 13,
     "metadata": {},
     "output_type": "execute_result"
    }
   ],
   "source": [
    "#when dealing with missing values, we need to figure out if we can replace with \n",
    "#dummy values. Let say Age isn't too important in the dataset, we can replace the missing values with 0. \n",
    "\n",
    "df['Age'].replace(np.nan, 0, inplace = True)\n",
    "df.isna().sum()"
   ]
  },
  {
   "cell_type": "code",
   "execution_count": 15,
   "metadata": {},
   "outputs": [
    {
     "data": {
      "text/plain": [
       "StudentID     0\n",
       "Age           0\n",
       "email         0\n",
       "hrsStudy      0\n",
       "FinalGrade    0\n",
       "dtype: int64"
      ]
     },
     "execution_count": 15,
     "metadata": {},
     "output_type": "execute_result"
    }
   ],
   "source": [
    "#Since the rest of the columns contains important data, we won't replace with 0, \n",
    "#instead we delete rows containing nan data.\n",
    "df.dropna(inplace = True)\n",
    "df.isna().sum()"
   ]
  },
  {
   "cell_type": "code",
   "execution_count": 18,
   "metadata": {},
   "outputs": [
    {
     "name": "stdout",
     "output_type": "stream",
     "text": [
      "<class 'pandas.core.frame.DataFrame'>\n",
      "Index: 48 entries, 0 to 49\n",
      "Data columns (total 5 columns):\n",
      " #   Column      Non-Null Count  Dtype  \n",
      "---  ------      --------------  -----  \n",
      " 0   StudentID   48 non-null     int64  \n",
      " 1   Age         48 non-null     int32  \n",
      " 2   email       48 non-null     object \n",
      " 3   hrsStudy    48 non-null     int32  \n",
      " 4   FinalGrade  48 non-null     float64\n",
      "dtypes: float64(1), int32(2), int64(1), object(1)\n",
      "memory usage: 1.9+ KB\n"
     ]
    },
    {
     "data": {
      "text/html": [
       "<div>\n",
       "<style scoped>\n",
       "    .dataframe tbody tr th:only-of-type {\n",
       "        vertical-align: middle;\n",
       "    }\n",
       "\n",
       "    .dataframe tbody tr th {\n",
       "        vertical-align: top;\n",
       "    }\n",
       "\n",
       "    .dataframe thead th {\n",
       "        text-align: right;\n",
       "    }\n",
       "</style>\n",
       "<table border=\"1\" class=\"dataframe\">\n",
       "  <thead>\n",
       "    <tr style=\"text-align: right;\">\n",
       "      <th></th>\n",
       "      <th>StudentID</th>\n",
       "      <th>Age</th>\n",
       "      <th>hrsStudy</th>\n",
       "      <th>FinalGrade</th>\n",
       "    </tr>\n",
       "  </thead>\n",
       "  <tbody>\n",
       "    <tr>\n",
       "      <th>count</th>\n",
       "      <td>48.000000</td>\n",
       "      <td>48.000000</td>\n",
       "      <td>48.000000</td>\n",
       "      <td>48.000000</td>\n",
       "    </tr>\n",
       "    <tr>\n",
       "      <th>mean</th>\n",
       "      <td>50338.166667</td>\n",
       "      <td>35.666667</td>\n",
       "      <td>6.395833</td>\n",
       "      <td>72.083333</td>\n",
       "    </tr>\n",
       "    <tr>\n",
       "      <th>std</th>\n",
       "      <td>26526.981827</td>\n",
       "      <td>52.388619</td>\n",
       "      <td>3.648022</td>\n",
       "      <td>91.362461</td>\n",
       "    </tr>\n",
       "    <tr>\n",
       "      <th>min</th>\n",
       "      <td>11758.000000</td>\n",
       "      <td>0.000000</td>\n",
       "      <td>0.000000</td>\n",
       "      <td>24.000000</td>\n",
       "    </tr>\n",
       "    <tr>\n",
       "      <th>25%</th>\n",
       "      <td>28399.750000</td>\n",
       "      <td>22.000000</td>\n",
       "      <td>3.000000</td>\n",
       "      <td>38.750000</td>\n",
       "    </tr>\n",
       "    <tr>\n",
       "      <th>50%</th>\n",
       "      <td>45986.500000</td>\n",
       "      <td>25.000000</td>\n",
       "      <td>7.000000</td>\n",
       "      <td>61.000000</td>\n",
       "    </tr>\n",
       "    <tr>\n",
       "      <th>75%</th>\n",
       "      <td>71524.000000</td>\n",
       "      <td>31.000000</td>\n",
       "      <td>10.000000</td>\n",
       "      <td>78.500000</td>\n",
       "    </tr>\n",
       "    <tr>\n",
       "      <th>max</th>\n",
       "      <td>99823.000000</td>\n",
       "      <td>333.000000</td>\n",
       "      <td>11.000000</td>\n",
       "      <td>673.000000</td>\n",
       "    </tr>\n",
       "  </tbody>\n",
       "</table>\n",
       "</div>"
      ],
      "text/plain": [
       "          StudentID         Age   hrsStudy  FinalGrade\n",
       "count     48.000000   48.000000  48.000000   48.000000\n",
       "mean   50338.166667   35.666667   6.395833   72.083333\n",
       "std    26526.981827   52.388619   3.648022   91.362461\n",
       "min    11758.000000    0.000000   0.000000   24.000000\n",
       "25%    28399.750000   22.000000   3.000000   38.750000\n",
       "50%    45986.500000   25.000000   7.000000   61.000000\n",
       "75%    71524.000000   31.000000  10.000000   78.500000\n",
       "max    99823.000000  333.000000  11.000000  673.000000"
      ]
     },
     "execution_count": 18,
     "metadata": {},
     "output_type": "execute_result"
    }
   ],
   "source": [
    "#easiest way to convert string object to int.\n",
    "\n",
    "df['Age'] = df['Age'].astype(str).astype(int) \n",
    "df['hrsStudy'] = df['hrsStudy'].astype(str).astype(int)\n",
    "\n",
    "df.info()\n",
    "df.describe()"
   ]
  },
  {
   "cell_type": "markdown",
   "metadata": {},
   "source": [
    "If your dataset is complete, you won't have to do all this, but its always smart to check that you get the expected datatypes when reading a file\n",
    "\n",
    "Converting values from int to float can be done by df[list(\"Age\")] = df[list(\"Age\")].astype(float)"
   ]
  },
  {
   "cell_type": "code",
   "execution_count": 20,
   "metadata": {},
   "outputs": [
    {
     "data": {
      "text/plain": [
       "<Axes: >"
      ]
     },
     "execution_count": 20,
     "metadata": {},
     "output_type": "execute_result"
    },
    {
     "data": {
      "image/png": "[encoded data removed]",
      "text/plain": [
       "<Figure size 640x480 with 1 Axes>"
      ]
     },
     "metadata": {},
     "output_type": "display_data"
    }
   ],
   "source": [
    "#3. Then idenify and remove the outliers in the «FinalGrade» column\n",
    "df['FinalGrade'].plot.line()"
   ]
  },
  {
   "cell_type": "code",
   "execution_count": 24,
   "metadata": {},
   "outputs": [
    {
     "data": {
      "text/plain": [
       "<Axes: >"
      ]
     },
     "execution_count": 24,
     "metadata": {},
     "output_type": "execute_result"
    },
    {
     "data": {
      "image/png": "[encoded data removed]",
      "text/plain": [
       "<Figure size 640x480 with 1 Axes>"
      ]
     },
     "metadata": {},
     "output_type": "display_data"
    }
   ],
   "source": [
    "# remove the outliers by calculate the z score \n",
    "from scipy import stats\n",
    "z_scores = stats.zscore(df['FinalGrade'])\n",
    "abs_z_scores = np.abs(z_scores)\n",
    "\n",
    "#And drop all rows in the third quantile\n",
    "df.drop(df[abs_z_scores > 3].index, inplace = True)\n",
    "df['FinalGrade'].plot.line()"
   ]
  },
  {
   "cell_type": "code",
   "execution_count": 25,
   "metadata": {},
   "outputs": [
    {
     "data": {
      "text/html": [
       "<div>\n",
       "<style scoped>\n",
       "    .dataframe tbody tr th:only-of-type {\n",
       "        vertical-align: middle;\n",
       "    }\n",
       "\n",
       "    .dataframe tbody tr th {\n",
       "        vertical-align: top;\n",
       "    }\n",
       "\n",
       "    .dataframe thead th {\n",
       "        text-align: right;\n",
       "    }\n",
       "</style>\n",
       "<table border=\"1\" class=\"dataframe\">\n",
       "  <thead>\n",
       "    <tr style=\"text-align: right;\">\n",
       "      <th></th>\n",
       "      <th>StudentID</th>\n",
       "      <th>Age</th>\n",
       "      <th>email</th>\n",
       "      <th>hrsStudy</th>\n",
       "      <th>FinalGrade</th>\n",
       "      <th>Grade</th>\n",
       "    </tr>\n",
       "  </thead>\n",
       "  <tbody>\n",
       "    <tr>\n",
       "      <th>45</th>\n",
       "      <td>62039</td>\n",
       "      <td>23</td>\n",
       "      <td>s62039@oslomet.no</td>\n",
       "      <td>4</td>\n",
       "      <td>46.0</td>\n",
       "      <td>F</td>\n",
       "    </tr>\n",
       "    <tr>\n",
       "      <th>46</th>\n",
       "      <td>42989</td>\n",
       "      <td>27</td>\n",
       "      <td>s42989@oslomet.no</td>\n",
       "      <td>0</td>\n",
       "      <td>80.0</td>\n",
       "      <td>C</td>\n",
       "    </tr>\n",
       "    <tr>\n",
       "      <th>47</th>\n",
       "      <td>85370</td>\n",
       "      <td>29</td>\n",
       "      <td>s85370@oslomet.no</td>\n",
       "      <td>2</td>\n",
       "      <td>77.0</td>\n",
       "      <td>C</td>\n",
       "    </tr>\n",
       "    <tr>\n",
       "      <th>48</th>\n",
       "      <td>63135</td>\n",
       "      <td>26</td>\n",
       "      <td>s63135@oslomet.no</td>\n",
       "      <td>9</td>\n",
       "      <td>39.0</td>\n",
       "      <td>F</td>\n",
       "    </tr>\n",
       "    <tr>\n",
       "      <th>49</th>\n",
       "      <td>28895</td>\n",
       "      <td>19</td>\n",
       "      <td>s28895@oslomet.no</td>\n",
       "      <td>10</td>\n",
       "      <td>68.0</td>\n",
       "      <td>D</td>\n",
       "    </tr>\n",
       "  </tbody>\n",
       "</table>\n",
       "</div>"
      ],
      "text/plain": [
       "    StudentID  Age              email  hrsStudy  FinalGrade Grade\n",
       "45      62039   23  s62039@oslomet.no         4        46.0     F\n",
       "46      42989   27  s42989@oslomet.no         0        80.0     C\n",
       "47      85370   29  s85370@oslomet.no         2        77.0     C\n",
       "48      63135   26  s63135@oslomet.no         9        39.0     F\n",
       "49      28895   19  s28895@oslomet.no        10        68.0     D"
      ]
     },
     "execution_count": 25,
     "metadata": {},
     "output_type": "execute_result"
    }
   ],
   "source": [
    "df.tail(5)"
   ]
  },
  {
   "cell_type": "code",
   "execution_count": 26,
   "metadata": {},
   "outputs": [
    {
     "data": {
      "text/html": [
       "<div>\n",
       "<style scoped>\n",
       "    .dataframe tbody tr th:only-of-type {\n",
       "        vertical-align: middle;\n",
       "    }\n",
       "\n",
       "    .dataframe tbody tr th {\n",
       "        vertical-align: top;\n",
       "    }\n",
       "\n",
       "    .dataframe thead th {\n",
       "        text-align: right;\n",
       "    }\n",
       "</style>\n",
       "<table border=\"1\" class=\"dataframe\">\n",
       "  <thead>\n",
       "    <tr style=\"text-align: right;\">\n",
       "      <th></th>\n",
       "      <th>StudentID</th>\n",
       "      <th>Age</th>\n",
       "      <th>email</th>\n",
       "      <th>hrsStudy</th>\n",
       "      <th>FinalGrade</th>\n",
       "      <th>Grade</th>\n",
       "    </tr>\n",
       "  </thead>\n",
       "  <tbody>\n",
       "    <tr>\n",
       "      <th>42</th>\n",
       "      <td>62039</td>\n",
       "      <td>23</td>\n",
       "      <td>s62039@oslomet.no</td>\n",
       "      <td>4</td>\n",
       "      <td>46.0</td>\n",
       "      <td>F</td>\n",
       "    </tr>\n",
       "    <tr>\n",
       "      <th>43</th>\n",
       "      <td>42989</td>\n",
       "      <td>27</td>\n",
       "      <td>s42989@oslomet.no</td>\n",
       "      <td>0</td>\n",
       "      <td>80.0</td>\n",
       "      <td>C</td>\n",
       "    </tr>\n",
       "    <tr>\n",
       "      <th>44</th>\n",
       "      <td>85370</td>\n",
       "      <td>29</td>\n",
       "      <td>s85370@oslomet.no</td>\n",
       "      <td>2</td>\n",
       "      <td>77.0</td>\n",
       "      <td>C</td>\n",
       "    </tr>\n",
       "    <tr>\n",
       "      <th>45</th>\n",
       "      <td>63135</td>\n",
       "      <td>26</td>\n",
       "      <td>s63135@oslomet.no</td>\n",
       "      <td>9</td>\n",
       "      <td>39.0</td>\n",
       "      <td>F</td>\n",
       "    </tr>\n",
       "    <tr>\n",
       "      <th>46</th>\n",
       "      <td>28895</td>\n",
       "      <td>19</td>\n",
       "      <td>s28895@oslomet.no</td>\n",
       "      <td>10</td>\n",
       "      <td>68.0</td>\n",
       "      <td>D</td>\n",
       "    </tr>\n",
       "  </tbody>\n",
       "</table>\n",
       "</div>"
      ],
      "text/plain": [
       "    StudentID  Age              email  hrsStudy  FinalGrade Grade\n",
       "42      62039   23  s62039@oslomet.no         4        46.0     F\n",
       "43      42989   27  s42989@oslomet.no         0        80.0     C\n",
       "44      85370   29  s85370@oslomet.no         2        77.0     C\n",
       "45      63135   26  s63135@oslomet.no         9        39.0     F\n",
       "46      28895   19  s28895@oslomet.no        10        68.0     D"
      ]
     },
     "execution_count": 26,
     "metadata": {},
     "output_type": "execute_result"
    }
   ],
   "source": [
    "#As you can see, the index counts to 49, but we have dropped several values, we reset the index \n",
    "\n",
    "df = df.reset_index(drop=True)\n",
    "df.tail(5)"
   ]
  },
  {
   "cell_type": "code",
   "execution_count": 21,
   "metadata": {},
   "outputs": [
    {
     "data": {
      "text/html": [
       "<div>\n",
       "<style scoped>\n",
       "    .dataframe tbody tr th:only-of-type {\n",
       "        vertical-align: middle;\n",
       "    }\n",
       "\n",
       "    .dataframe tbody tr th {\n",
       "        vertical-align: top;\n",
       "    }\n",
       "\n",
       "    .dataframe thead th {\n",
       "        text-align: right;\n",
       "    }\n",
       "</style>\n",
       "<table border=\"1\" class=\"dataframe\">\n",
       "  <thead>\n",
       "    <tr style=\"text-align: right;\">\n",
       "      <th></th>\n",
       "      <th>StudentID</th>\n",
       "      <th>Age</th>\n",
       "      <th>email</th>\n",
       "      <th>hrsStudy</th>\n",
       "      <th>FinalGrade</th>\n",
       "      <th>Grade</th>\n",
       "    </tr>\n",
       "  </thead>\n",
       "  <tbody>\n",
       "    <tr>\n",
       "      <th>0</th>\n",
       "      <td>47412</td>\n",
       "      <td>20</td>\n",
       "      <td>s47412@oslomet.no</td>\n",
       "      <td>5</td>\n",
       "      <td>46.0</td>\n",
       "      <td>F</td>\n",
       "    </tr>\n",
       "    <tr>\n",
       "      <th>1</th>\n",
       "      <td>15077</td>\n",
       "      <td>22</td>\n",
       "      <td>s15077@oslomet.no</td>\n",
       "      <td>0</td>\n",
       "      <td>65.0</td>\n",
       "      <td>D</td>\n",
       "    </tr>\n",
       "    <tr>\n",
       "      <th>2</th>\n",
       "      <td>15467</td>\n",
       "      <td>27</td>\n",
       "      <td>s15467@oslomet.no</td>\n",
       "      <td>1</td>\n",
       "      <td>26.0</td>\n",
       "      <td>F</td>\n",
       "    </tr>\n",
       "    <tr>\n",
       "      <th>3</th>\n",
       "      <td>17907</td>\n",
       "      <td>21</td>\n",
       "      <td>s17907@oslomet.no</td>\n",
       "      <td>6</td>\n",
       "      <td>68.0</td>\n",
       "      <td>D</td>\n",
       "    </tr>\n",
       "    <tr>\n",
       "      <th>4</th>\n",
       "      <td>13352</td>\n",
       "      <td>333</td>\n",
       "      <td>s13352@oslomet.no</td>\n",
       "      <td>4</td>\n",
       "      <td>34.0</td>\n",
       "      <td>F</td>\n",
       "    </tr>\n",
       "  </tbody>\n",
       "</table>\n",
       "</div>"
      ],
      "text/plain": [
       "   StudentID  Age              email  hrsStudy  FinalGrade Grade\n",
       "0      47412   20  s47412@oslomet.no         5        46.0     F\n",
       "1      15077   22  s15077@oslomet.no         0        65.0     D\n",
       "2      15467   27  s15467@oslomet.no         1        26.0     F\n",
       "3      17907   21  s17907@oslomet.no         6        68.0     D\n",
       "4      13352  333  s13352@oslomet.no         4        34.0     F"
      ]
     },
     "execution_count": 21,
     "metadata": {},
     "output_type": "execute_result"
    }
   ],
   "source": [
    "#4. Finally add a column \"Grade \" where you transform the grade from float to a char\n",
    "\n",
    "conditions = [(df['FinalGrade'] <= 50.0),\n",
    "            (df['FinalGrade'] > 50.0) & (df['FinalGrade'] <= 60.0),\n",
    "            (df['FinalGrade'] > 60.0) & (df['FinalGrade'] <= 70.0),\n",
    "            (df['FinalGrade'] > 70.0) & (df['FinalGrade'] <= 80.0),\n",
    "            (df['FinalGrade'] > 80.0) & (df['FinalGrade'] <= 90.0),\n",
    "            (df['FinalGrade'] > 90.0)\n",
    "            ]\n",
    "#create a list of the values we want to assign for each conditions\n",
    "values =['F', 'E', 'D', 'C', 'B', 'A']\n",
    "\n",
    "#create a new column and use np.select to assign values to it using our list as arguments \n",
    "df['Grade'] = np.select(conditions, values) \n",
    "df.head() \n"
   ]
  },
  {
   "cell_type": "code",
   "execution_count": 28,
   "metadata": {},
   "outputs": [
    {
     "data": {
      "text/plain": [
       "Grade\n",
       "A     5\n",
       "B     5\n",
       "C     6\n",
       "D     7\n",
       "E     5\n",
       "F    19\n",
       "Name: FinalGrade, dtype: int64"
      ]
     },
     "execution_count": 28,
     "metadata": {},
     "output_type": "execute_result"
    }
   ],
   "source": [
    "#5. Produce this plot \n",
    "% groupby gives the no. of different grades got\n",
    "df_gradeCount = df.groupby('Grade').count()\n",
    "df_gradeCount.FinalGrade"
   ]
  },
  {
   "cell_type": "code",
   "execution_count": 29,
   "metadata": {},
   "outputs": [
    {
     "data": {
      "text/plain": [
       "<Axes: xlabel='Grade'>"
      ]
     },
     "execution_count": 29,
     "metadata": {},
     "output_type": "execute_result"
    },
    {
     "data": {
      "image/png": "[encoded data removed]",
      "text/plain": [
       "<Figure size 640x480 with 1 Axes>"
      ]
     },
     "metadata": {},
     "output_type": "display_data"
    }
   ],
   "source": [
    "df_gradeCount['FinalGrade'].plot.bar()"
   ]
  }
 ],
 "metadata": {
  "kernelspec": {
   "display_name": "dave3625",
   "language": "python",
   "name": "python3"
  },
  "language_info": {
   "codemirror_mode": {
    "name": "ipython",
    "version": 3
   },
   "file_extension": ".py",
   "mimetype": "text/x-python",
   "name": "python",
   "nbconvert_exporter": "python",
   "pygments_lexer": "ipython3",
   "version": "3.8.19"
  }
 },
 "nbformat": 4,
 "nbformat_minor": 2
}
